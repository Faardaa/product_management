{
 "cells": [
  {
   "cell_type": "code",
   "execution_count": 4,
   "metadata": {},
   "outputs": [
    {
     "name": "stdout",
     "output_type": "stream",
     "text": [
      "Product added successfully:)\n"
     ]
    }
   ],
   "source": [
    "import sqlite3 \n",
    "database = sqlite3.connect('BUSINNES.db')\n",
    "cursor = database.cursor()\n",
    "query1 = 'CREATE TABLE IF NOT EXISTS INVENTORY1 (PRODUCT_NO INTEGER PRIMARY KEY AUTOINCREMENT, PRODUCT_NAME navchar(30), QUANTITY INTEGER, PRICE INTEGER)'\n",
    "cursor.execute(query1)\n",
    "database.commit()\n",
    "\n",
    "ans1 = input(\"Are you an admin: Yes(1), No(0)\")\n",
    "if ans1 == '1':\n",
    "    for i in range(3):\n",
    "        ans2 = input(\"Enter the password: \")\n",
    "        if ans2 == \"123\":\n",
    "            ans3 = input(\"Hello admin what would like to do: \\n0.Exit \\n1.Add a product \\n2.Search a product \\n3.Remove a product \\n4.See the product list\")\n",
    "            if ans3 == '0':\n",
    "                print(\"Databse is closing...\")\n",
    "                database.close() \n",
    "                break       \n",
    "            elif(ans3 == '1'):\n",
    "                query4 = 'INSERT INTO INVENTORY1 (PRODUCT_NAME, QUANTITY, PRICE) VALUES(?, ?, ?)'\n",
    "                np_name = input(\"Enter name of the product:\")\n",
    "                np_quantity = input(\"Enter quantity of the product:\")\n",
    "                np_price = input(\"Enter product price: \")\n",
    "                cursor.execute(query4, (np_name, np_quantity, np_price))\n",
    "                database.commit()\n",
    "                print(\"Product added successfully:)\")\n",
    "                break\n",
    "            elif(ans3 == '2'):\n",
    "                p_num = input(\"Enter the product number: \")\n",
    "                query5 = f'SELECT * FROM INVENTORY1 WHERE {p_num}'\n",
    "                cursor.execute(query5)\n",
    "                database.commit()\n",
    "                for tool in cursor:\n",
    "                    print(f\"Product no: {tool[1]}, Product quantity: {tool[2]}, Price: {tool[3]}\")\n",
    "                break\n",
    "            elif(ans3 == '3'):\n",
    "                p_num = input(\"Enter the product number: \")\n",
    "                query6 = f'DELETE FROM INVENTORY1 WHERE {p_num}'\n",
    "                cursor.execute(query6)\n",
    "                database.commit()\n",
    "                print(\"Product is removed:(\")\n",
    "                break\n",
    "            elif ans3 == '4':\n",
    "                query2 = 'SELECT * FROM INVENTORY1'\n",
    "                cursor.execute(query2)\n",
    "                database.commit()\n",
    "                for tool in cursor:\n",
    "                    print(f\"Product no: {tool[0]}, Product name: {tool[1]}, Product quantity: {tool[2]}, Price: {tool[3]}\")\n",
    "                break\n",
    "        else:  \n",
    "            print(\"Wrong password, tyr again...\", end = '')\n",
    "else:\n",
    "    print(\"Database is closing...\")\n",
    "    database.close()"
   ]
  },
  {
   "cell_type": "code",
   "execution_count": 2,
   "metadata": {},
   "outputs": [
    {
     "data": {
      "text/plain": [
       "11"
      ]
     },
     "execution_count": 2,
     "metadata": {},
     "output_type": "execute_result"
    }
   ],
   "source": []
  },
  {
   "cell_type": "code",
   "execution_count": null,
   "metadata": {},
   "outputs": [],
   "source": []
  }
 ],
 "metadata": {
  "kernelspec": {
   "display_name": "base",
   "language": "python",
   "name": "python3"
  },
  "language_info": {
   "codemirror_mode": {
    "name": "ipython",
    "version": 3
   },
   "file_extension": ".py",
   "mimetype": "text/x-python",
   "name": "python",
   "nbconvert_exporter": "python",
   "pygments_lexer": "ipython3",
   "version": "3.11.3"
  },
  "orig_nbformat": 4
 },
 "nbformat": 4,
 "nbformat_minor": 2
}
